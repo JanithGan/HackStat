{
 "cells": [
  {
   "cell_type": "code",
   "execution_count": 50,
   "metadata": {},
   "outputs": [
    {
     "name": "stdout",
     "output_type": "stream",
     "text": [
      "Train Accuracy: 93.559%      AUC: 0.8395\n",
      "Test Accuracy: 91.842%       AUC: 0.8073 \n",
      "Total Set Accuracy: 93.044%  AUC: 0.8304\n",
      "Confusion Matrix for Test Set :\n",
      " [[1711   53]\n",
      " [ 118  214]]\n",
      "Number of False Positives in Test Set : 53\n",
      "Number of False Negatives in Test Set : 118\n",
      "Number of Ones Predicted for Test Data : 227\n"
     ]
    }
   ],
   "source": [
    "import numpy as np\n",
    "import pandas as pd\n",
    "from sklearn.model_selection import train_test_split\n",
    "from sklearn.preprocessing import Normalizer\n",
    "from sklearn.ensemble import RandomForestClassifier\n",
    "from sklearn.metrics import *\n",
    "from sklearn.preprocessing import *\n",
    "\n",
    "# Reading Train Set Data File\n",
    "dataset = pd.read_csv('Data/Preprocessed/P_Train.csv')\n",
    "testdata = pd.read_csv('Data/Preprocessed/P_Test.csv')\n",
    "\n",
    "dataset.drop(['Jul','TrafficType','BounceRates'],axis=1,inplace=True)\n",
    "testdata.drop(['Jul','TrafficType','BounceRates'],axis=1,inplace=True)\n",
    "\n",
    "X = dataset.iloc[:, :-1]\n",
    "y = dataset.iloc[:, -1]\n",
    "\n",
    "X_train, X_test, y_train, y_test = train_test_split(X, y, test_size = 0.2, random_state = 42,shuffle = True, stratify = None)\n",
    "\n",
    "sc = StandardScaler()\n",
    "X_train = sc.fit_transform(X_train)\n",
    "X_test = sc.fit_transform(X_test)\n",
    "X = sc.fit_transform(X)\n",
    "testdata = sc.fit_transform(testdata)\n",
    "\n",
    "rf = RandomForestClassifier(bootstrap=True, class_weight=None,max_depth=8, max_features=10, max_leaf_nodes=None,\n",
    "                            min_samples_leaf=1, min_samples_split=2, min_weight_fraction_leaf=0.0, n_estimators=100,\n",
    "                            n_jobs=1, oob_score=False, random_state=3144,verbose=0, warm_start=False)\n",
    "rf.fit(X_train, y_train)\n",
    "y_pred = rf.predict(X_train)\n",
    "y_pred1 = rf.predict(X_test)\n",
    "y_pred2 = rf.predict(X)\n",
    "y_pred3 = rf.predict(testdata)\n",
    "\n",
    "conf1 = confusion_matrix(y_train,y_pred)\n",
    "conf2 = confusion_matrix(y_test,y_pred1)\n",
    "conf3 = confusion_matrix(y,y_pred2)\n",
    "\n",
    "roc_auc1 = roc_auc_score(y_train, y_pred)\n",
    "roc_auc2 = roc_auc_score(y_test, y_pred1)\n",
    "roc_auc3 = roc_auc_score(y, y_pred2)                \n",
    "\n",
    "print(\"Train Accuracy: {:.3f}%      AUC: {:.4f}\".format(((conf1[0][0]+conf1[1][1])/sum(sum(conf1)))*100,roc_auc1))\n",
    "print(\"Test Accuracy: {:.3f}%       AUC: {:.4f} \".format(((conf2[0][0]+conf2[1][1])/sum(sum(conf2)))*100,roc_auc2))\n",
    "print(\"Total Set Accuracy: {:.3f}%  AUC: {:.4f}\".format(((conf3[0][0]+conf3[1][1])/sum(sum(conf3)))*100,roc_auc3))\n",
    "print(\"Confusion Matrix for Test Set :\\n\",str(conf2))\n",
    "print(\"Number of False Positives in Test Set :\",conf2[0][1])\n",
    "print(\"Number of False Negatives in Test Set :\",conf2[1][0])\n",
    "print(\"Number of Ones Predicted for Test Data :\",np.sum(y_pred3))"
   ]
  },
  {
   "cell_type": "code",
   "execution_count": 19,
   "metadata": {},
   "outputs": [],
   "source": [
    "df=pd.DataFrame(Y,dtype=int)\n",
    "df.index += 1\n",
    "df.to_csv('Data/Predict_w.csv', sep=',', encoding='utf-8', header=['Revenue'], index_label='ID')"
   ]
  },
  {
   "cell_type": "code",
   "execution_count": null,
   "metadata": {},
   "outputs": [],
   "source": []
  }
 ],
 "metadata": {
  "kernelspec": {
   "display_name": "Python 3",
   "language": "python",
   "name": "python3"
  },
  "language_info": {
   "codemirror_mode": {
    "name": "ipython",
    "version": 3
   },
   "file_extension": ".py",
   "mimetype": "text/x-python",
   "name": "python",
   "nbconvert_exporter": "python",
   "pygments_lexer": "ipython3",
   "version": "3.7.4"
  }
 },
 "nbformat": 4,
 "nbformat_minor": 2
}
