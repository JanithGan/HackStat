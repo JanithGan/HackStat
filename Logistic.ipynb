{
 "cells": [
  {
   "cell_type": "code",
   "execution_count": 3,
   "metadata": {
    "pycharm": {
     "is_executing": false
    }
   },
   "outputs": [],
   "source": [
    "import numpy as np\n",
    "import pandas as pd\n",
    "import matplotlib.pyplot as plt"
   ]
  },
  {
   "cell_type": "code",
   "execution_count": 4,
   "metadata": {
    "pycharm": {
     "is_executing": false
    }
   },
   "outputs": [],
   "source": [
    "raw_data = pd.read_csv('Data/Trainset.csv')\n",
    "raw_data.dropna(axis=0, how='any', inplace=True)\n",
    "data = np.array(raw_data)"
   ]
  },
  {
   "cell_type": "code",
   "execution_count": 5,
   "metadata": {
    "pycharm": {
     "is_executing": false
    }
   },
   "outputs": [],
   "source": [
    "# Preprocessing Data\n",
    "\n",
    "m_init = data.shape[0]\n",
    "months = []\n",
    "for i in range(m_init):\n",
    "    mon = data[i][10]\n",
    "    if mon not in months:\n",
    "        months.append(mon)\n",
    "    data[i][10] = months.index(mon)\n",
    "\n",
    "    if data[i][15] == 'Returning_Visitor':\n",
    "        data[i][15] = 2\n",
    "    elif data[i][15] == 'New_Visitor':\n",
    "        data[i][15] = 1\n",
    "    elif data[i][15] == 'Other':\n",
    "        data[i][15] = 0\n",
    "\n",
    "    if data[i][16] is True:\n",
    "        data[i][16] = 1\n",
    "    elif data[i][16] is False:\n",
    "        data[i][16] = 0\n",
    "\n",
    "data = np.array(list(data), dtype=np.float)"
   ]
  },
  {
   "cell_type": "code",
   "execution_count": 6,
   "metadata": {
    "pycharm": {
     "is_executing": false
    }
   },
   "outputs": [
    {
     "name": "stdout",
     "text": [
      "X_Train = (17, 9500)\nX_Test = (17, 966)\n"
     ],
     "output_type": "stream"
    }
   ],
   "source": [
    "d = 9500\n",
    "\n",
    "train = data[:d].T\n",
    "test = data[d:].T\n",
    "\n",
    "X_train = train[:-1]\n",
    "n = X_train.shape[0]\n",
    "m_train = X_train.shape[1]\n",
    "Y_train = train[-1].reshape(1, m_train)\n",
    "\n",
    "X_test = test[:-1]\n",
    "m_test = X_test.shape[1]\n",
    "Y_test = test[-1].reshape(1, m_test)\n",
    "\n",
    "\n",
    "print(\"X_Train =\",X_train.shape)\n",
    "print(\"X_Test =\",X_test.shape)"
   ]
  },
  {
   "cell_type": "code",
   "execution_count": 7,
   "metadata": {
    "pycharm": {
     "is_executing": false
    }
   },
   "outputs": [],
   "source": [
    "X_norm = np.max(X_train, axis=1, keepdims=True)\n",
    "X_train = X_train / X_norm\n",
    "X_test = X_test / X_norm"
   ]
  },
  {
   "cell_type": "code",
   "execution_count": 8,
   "metadata": {
    "pycharm": {
     "is_executing": false
    }
   },
   "outputs": [],
   "source": [
    "def sigmoid(z):\n",
    "    \"\"\"Compute the sigmoid of z\"\"\"\n",
    "    s = 1 / (1 + np.exp(-z))\n",
    "    return s"
   ]
  },
  {
   "cell_type": "code",
   "execution_count": 9,
   "metadata": {
    "pycharm": {
     "is_executing": false
    }
   },
   "outputs": [],
   "source": [
    "def initialize_with_zeros(dim):\n",
    "    \"\"\"This function creates a vector of zeros of shape (dim, 1) for w and initializes b to 0.\"\"\"\n",
    "    w = np.zeros((dim, 1))\n",
    "    b = 0\n",
    "    assert (w.shape == (dim, 1))\n",
    "    assert (isinstance(b, float) or isinstance(b, int))\n",
    "    return w, b"
   ]
  },
  {
   "cell_type": "code",
   "execution_count": 10,
   "metadata": {
    "scrolled": true,
    "pycharm": {
     "is_executing": false
    }
   },
   "outputs": [],
   "source": [
    "def propagate(w, b, X, Y):\n",
    "    \"\"\"Implement the cost function and its gradient for the propagation explained above\"\"\"\n",
    "    m = X.shape[1]\n",
    "\n",
    "    A = sigmoid(np.dot(w.T, X) + b)  # compute activation\n",
    "    cost = -(1 / m) * np.sum(Y * np.log(A) + (1 - Y) * np.log(1 - A))  # compute cost\n",
    "\n",
    "    # BACKWARD PROPAGATION (TO FIND GRAD)\n",
    "    dw = (1 / m) * np.dot(X, (A - Y).T)\n",
    "    db = (1 / m) * np.sum(A - Y)\n",
    "\n",
    "    assert (dw.shape == w.shape)\n",
    "    assert (db.dtype == float)\n",
    "    cost = np.squeeze(cost)\n",
    "    assert (cost.shape == ())\n",
    "\n",
    "    grads = {\"dw\": dw,\n",
    "             \"db\": db}\n",
    "\n",
    "    return grads, cost"
   ]
  },
  {
   "cell_type": "code",
   "execution_count": 11,
   "metadata": {
    "pycharm": {
     "is_executing": false
    }
   },
   "outputs": [],
   "source": [
    "def optimize(w, b, X, Y, num_iterations, learning_rate, print_cost=False):\n",
    "    \"\"\"This function optimizes w and b by running a gradient descent algorithm\"\"\"\n",
    "    costs = []\n",
    "    for j in range(num_iterations):\n",
    "\n",
    "        # Cost and gradient calculation\n",
    "        grads, cost = propagate(w, b, X, Y)\n",
    "\n",
    "        # Retrieve derivatives from grads\n",
    "        dw = grads[\"dw\"]\n",
    "        db = grads[\"db\"]\n",
    "\n",
    "        # update rule (≈ 2 lines of code)\n",
    "        w = w - learning_rate * dw\n",
    "        b = b - learning_rate * db\n",
    "\n",
    "        # Record the costs\n",
    "        if j % 100 == 0:\n",
    "            costs.append(cost)\n",
    "\n",
    "        # Print the cost every 100 training iterations\n",
    "        if print_cost and j % 100 == 0:\n",
    "            print(\"Cost after iteration %i: %f\" % (j, cost))\n",
    "\n",
    "    params = {\"w\": w,\n",
    "              \"b\": b}\n",
    "\n",
    "    grads = {\"dw\": dw,\n",
    "             \"db\": db}\n",
    "\n",
    "    return params, grads, costs\n"
   ]
  },
  {
   "cell_type": "code",
   "execution_count": 12,
   "metadata": {
    "pycharm": {
     "is_executing": false
    }
   },
   "outputs": [],
   "source": [
    "def predict(w, b, X):\n",
    "    \"\"\"Predict whether the label is 0 or 1 using learned logistic regression parameters (w, b)\"\"\"\n",
    "    m = X.shape[1]\n",
    "    y_prediction = np.zeros((1, m))\n",
    "    w = w.reshape(X.shape[0], 1)\n",
    "\n",
    "    # Compute vector \"A\" predicting the probabilities of a cat being present in the picture\n",
    "    A = sigmoid(np.dot(w.T, X) + b)\n",
    "\n",
    "    for k in range(A.shape[1]):\n",
    "\n",
    "        # Convert probabilities A[0,i] to actual predictions p[0,i]\n",
    "        if A[0, k] >= 0.5:\n",
    "            y_prediction[0, k] = 1\n",
    "\n",
    "    assert (y_prediction.shape == (1, m))\n",
    "\n",
    "    return y_prediction"
   ]
  },
  {
   "cell_type": "code",
   "execution_count": 13,
   "metadata": {
    "pycharm": {
     "is_executing": false
    }
   },
   "outputs": [],
   "source": [
    "def model(x_train, y_train, x_test, y_test, num_iterations=2000, learning_rate=0.5, print_cost=False):\n",
    "    \"\"\"Builds the logistic regression model by calling the function you've implemented previously\"\"\"\n",
    "\n",
    "    # initialize parameters with zeros\n",
    "    w, b = initialize_with_zeros(x_train.shape[0])\n",
    "\n",
    "    # Gradient descent\n",
    "    parameters, grads, costs = optimize(w, b, x_train, y_train, num_iterations, learning_rate, print_cost)\n",
    "\n",
    "    # Retrieve parameters w and b from dictionary \"parameters\"\n",
    "    w = parameters[\"w\"]\n",
    "    b = parameters[\"b\"]\n",
    "\n",
    "    # Predict test/train set examples\n",
    "    y_prediction_test = predict(w, b, x_test)\n",
    "    y_prediction_train = predict(w, b, x_train)\n",
    "\n",
    "    # Print train/test Errors\n",
    "    print(\"train accuracy: {} %\".format(100 - np.mean(np.abs(y_prediction_train - y_train)) * 100))\n",
    "    print(\"test accuracy: {} %\".format(100 - np.mean(np.abs(y_prediction_test - y_test)) * 100))\n",
    "\n",
    "    out = {\"costs\": costs,\n",
    "           \"Y_prediction_test\": y_prediction_test,\n",
    "           \"Y_prediction_train\": y_prediction_train,\n",
    "           \"w\": w,\n",
    "           \"b\": b,\n",
    "           \"learning_rate\": learning_rate,\n",
    "           \"num_iterations\": num_iterations}\n",
    "\n",
    "    return out"
   ]
  },
  {
   "cell_type": "code",
   "execution_count": 14,
   "metadata": {
    "pycharm": {
     "is_executing": false
    }
   },
   "outputs": [
    {
     "name": "stdout",
     "text": [
      "Cost after iteration 0: 0.693147\nCost after iteration 100: 0.522409\nCost after iteration 200: 0.464361\n",
      "Cost after iteration 300: 0.441354\n",
      "Cost after iteration 400: 0.431011\nCost after iteration 500: 0.425855\nCost after iteration 600: 0.423020\nCost after iteration 700: 0.421293\n",
      "Cost after iteration 800: 0.420120\n",
      "Cost after iteration 900: 0.419235\nCost after iteration 1000: 0.418505\nCost after iteration 1100: 0.417863\nCost after iteration 1200: 0.417273",
      "\nCost after iteration 1300: 0.416716\n",
      "Cost after iteration 1400: 0.416181\nCost after iteration 1500: 0.415663\nCost after iteration 1600: 0.415158\nCost after iteration 1700: 0.414665",
      "\nCost after iteration 1800: 0.414182\n",
      "Cost after iteration 1900: 0.413709\nCost after iteration 2000: 0.413245\nCost after iteration 2100: 0.412790\nCost after iteration 2200: 0.412343\n",
      "Cost after iteration 2300: 0.411904\n",
      "Cost after iteration 2400: 0.411472\nCost after iteration 2500: 0.411049\nCost after iteration 2600: 0.410632\n",
      "Cost after iteration 2700: 0.410223\n",
      "Cost after iteration 2800: 0.409820\nCost after iteration 2900: 0.409424\nCost after iteration 3000: 0.409035\nCost after iteration 3100: 0.408652",
      "\nCost after iteration 3200: 0.408275\n",
      "Cost after iteration 3300: 0.407903\nCost after iteration 3400: 0.407538\nCost after iteration 3500: 0.407178\n",
      "Cost after iteration 3600: 0.406824\n",
      "Cost after iteration 3700: 0.406475\nCost after iteration 3800: 0.406131\nCost after iteration 3900: 0.405792\nCost after iteration 4000: 0.405458\n",
      "Cost after iteration 4100: 0.405128\n",
      "Cost after iteration 4200: 0.404804\nCost after iteration 4300: 0.404484\nCost after iteration 4400: 0.404168\n",
      "Cost after iteration 4500: 0.403856\n",
      "Cost after iteration 4600: 0.403549\nCost after iteration 4700: 0.403246\nCost after iteration 4800: 0.402947\nCost after iteration 4900: 0.402651",
      "\ntrain accuracy: 84.64210526315789 %\ntest accuracy: 83.12629399585921 %\n"
     ],
     "output_type": "stream"
    }
   ],
   "source": [
    "d = model(X_train, Y_train, X_test, Y_test, num_iterations=5000, learning_rate=0.01, print_cost=True)"
   ]
  },
  {
   "cell_type": "code",
   "execution_count": 15,
   "metadata": {
    "pycharm": {
     "is_executing": false
    }
   },
   "outputs": [
    {
     "data": {
      "text/plain": "<Figure size 432x288 with 1 Axes>",
      "image/png": "[encoded data removed]"
     },
     "metadata": {
      "needs_background": "light"
     },
     "output_type": "display_data"
    }
   ],
   "source": [
    "costs = np.squeeze(d['costs'])\n",
    "plt.plot(costs)\n",
    "plt.ylabel('cost')\n",
    "plt.xlabel('iterations (per hundreds)')\n",
    "plt.title(\"Learning rate =\" + str(d[\"learning_rate\"]))\n",
    "plt.show()"
   ]
  },
  {
   "cell_type": "code",
   "execution_count": 16,
   "metadata": {
    "pycharm": {
     "is_executing": false
    }
   },
   "outputs": [
    {
     "name": "stdout",
     "text": [
      "learning rate is: 0.01\n",
      "train accuracy: 84.64210526315789 %\ntest accuracy: 83.12629399585921 %\n\n-------------------------------------------------------\n\nlearning rate is: 0.001\n",
      "train accuracy: 84.64210526315789 %\ntest accuracy: 83.12629399585921 %\n\n-------------------------------------------------------\n\nlearning rate is: 0.0001\n",
      "train accuracy: 84.64210526315789 %\ntest accuracy: 83.12629399585921 %\n\n-------------------------------------------------------\n\n"
     ],
     "output_type": "stream"
    },
    {
     "data": {
      "text/plain": "<Figure size 432x288 with 1 Axes>",
      "image/png": "[encoded data removed]"
     },
     "metadata": {
      "needs_background": "light"
     },
     "output_type": "display_data"
    }
   ],
   "source": [
    "learning_rates = [0.01, 0.001, 0.0001]\n",
    "models = {}\n",
    "for i in learning_rates:\n",
    "    print(\"learning rate is: \" + str(i))\n",
    "    models[str(i)] = model(X_train, Y_train, X_test, Y_test, num_iterations=1500, learning_rate=i, print_cost=False)\n",
    "    print('\\n' + \"-------------------------------------------------------\" + '\\n')\n",
    "\n",
    "for i in learning_rates:\n",
    "    plt.plot(np.squeeze(models[str(i)][\"costs\"]), label=str(models[str(i)][\"learning_rate\"]))\n",
    "\n",
    "plt.ylabel('cost')\n",
    "plt.xlabel('iterations (hundreds)')\n",
    "\n",
    "legend = plt.legend(loc='upper center', shadow=True)\n",
    "frame = legend.get_frame()\n",
    "frame.set_facecolor('0.90')\n",
    "plt.show()\n"
   ]
  },
  {
   "cell_type": "code",
   "execution_count": 16,
   "metadata": {
    "pycharm": {
     "is_executing": false
    }
   },
   "outputs": [],
   "source": []
  }
 ],
 "metadata": {
  "kernelspec": {
   "display_name": "Python 3",
   "language": "python",
   "name": "python3"
  },
  "language_info": {
   "codemirror_mode": {
    "name": "ipython",
    "version": 3
   },
   "file_extension": ".py",
   "mimetype": "text/x-python",
   "name": "python",
   "nbconvert_exporter": "python",
   "pygments_lexer": "ipython3",
   "version": "3.7.4"
  },
  "pycharm": {
   "stem_cell": {
    "cell_type": "raw",
    "source": [],
    "metadata": {
     "collapsed": false
    }
   }
  }
 },
 "nbformat": 4,
 "nbformat_minor": 2
}